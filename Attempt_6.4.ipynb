{
 "cells": [
  {
   "cell_type": "markdown",
   "metadata": {},
   "source": [
    "### 53. Maximum Subarray\n",
    "Find the contiguous subarray within an array (containing at least one number) which has the largest sum.\n",
    "\n",
    "For example, given the array [-2,1,-3,4,-1,2,1,-5,4],\n",
    "the contiguous subarray [4,-1,2,1] has the largest sum = 6.\n",
    "\n",
    "**NOTE:**\n",
    "\n",
    "`if not A` (A is a list) to check if A is empty. If A is empty, returns True, otherwise returns False."
   ]
  },
  {
   "cell_type": "code",
   "execution_count": 7,
   "metadata": {
    "collapsed": true
   },
   "outputs": [],
   "source": [
    "class Solution(object):\n",
    "    def maxSubArray(self, nums):\n",
    "        \"\"\"\n",
    "        :type nums: List[int]\n",
    "        :rtype: int\n",
    "        \"\"\"\n",
    "        if not nums:\n",
    "            return 0\n",
    "        \n",
    "        current = max_sum = nums[0]\n",
    "        for item in nums[1: ]:\n",
    "            current = max(item, current + item)\n",
    "            max_sum = max(max_sum, current)\n",
    "        \n",
    "        return max_sum    "
   ]
  },
  {
   "cell_type": "markdown",
   "metadata": {},
   "source": [
    "<img src = \"53.jpg\">\n",
    "\n",
    "Run the code:"
   ]
  },
  {
   "cell_type": "code",
   "execution_count": 8,
   "metadata": {
    "collapsed": false
   },
   "outputs": [
    {
     "data": {
      "text/plain": [
       "6"
      ]
     },
     "execution_count": 8,
     "metadata": {},
     "output_type": "execute_result"
    }
   ],
   "source": [
    "Solution().maxSubArray([1, -3, 4, -1, 2, 1, -5, 4])"
   ]
  },
  {
   "cell_type": "markdown",
   "metadata": {},
   "source": [
    "### 238. Product of Array Except Self (Medium)\n",
    "Given an array of n integers where n > 1, nums, return an array output such that output[i] is equal to the product of all the elements of nums except nums[i].\n",
    "\n",
    "Solve it **without division** and in O(n).\n",
    "\n",
    "For example, given [1,2,3,4], return [24,12,8,6].\n",
    "\n",
    "**Follow up:**\n",
    "\n",
    "Could you solve it with constant space complexity? (Note: The output array does not count as extra space for the purpose of space complexity analysis.)"
   ]
  },
  {
   "cell_type": "code",
   "execution_count": 16,
   "metadata": {
    "collapsed": true
   },
   "outputs": [],
   "source": [
    "class Solution(object):\n",
    "    def productExceptSelf(self, nums):\n",
    "        \"\"\"\n",
    "        :type nums: List[int]\n",
    "        :rtype: List[int]\n",
    "        \"\"\"\n",
    "        p = 1\n",
    "        n = len(nums)\n",
    "        output = []\n",
    "        \n",
    "        for i in range(0, n): # range(0, 4): [0, 1, 2, 3]\n",
    "            output.append(p)\n",
    "            p = p * nums[i]\n",
    "        p = 1\n",
    "        \n",
    "        for i in range(n-1, -1, -1): # range(4, 0, -1) = [4, 3, 2, 1]\n",
    "            output[i] = output[i] * p\n",
    "            p = p * nums[i]\n",
    "            \n",
    "        return output"
   ]
  },
  {
   "cell_type": "markdown",
   "metadata": {},
   "source": [
    "Run the code:"
   ]
  },
  {
   "cell_type": "code",
   "execution_count": 17,
   "metadata": {
    "collapsed": false
   },
   "outputs": [
    {
     "data": {
      "text/plain": [
       "[24, 12, 8, 6]"
      ]
     },
     "execution_count": 17,
     "metadata": {},
     "output_type": "execute_result"
    }
   ],
   "source": [
    "Solution().productExceptSelf([1, 2, 3, 4])"
   ]
  },
  {
   "cell_type": "markdown",
   "metadata": {
    "collapsed": true
   },
   "source": [
    "### 237. Delete Node in a Linked List\n",
    "还没学过list，先看答案吧\n",
    "\n",
    "Write a function to delete a node (except the tail) in a singly linked list, given only access to that node.\n",
    "\n",
    "Supposed the linked list is 1 -> 2 -> 3 -> 4 and you are given the third node with value 3, the linked list should become 1 -> 2 -> 4 after calling your function."
   ]
  },
  {
   "cell_type": "code",
   "execution_count": 1,
   "metadata": {
    "collapsed": true
   },
   "outputs": [],
   "source": [
    "# Definition for singly-linked list.\n",
    "# class ListNode(object):\n",
    "#     def __init__(self, x):\n",
    "#         self.val = x\n",
    "#         self.next = None\n",
    "\n",
    "class Solution(object):\n",
    "    def deleteNode(self, node):\n",
    "        \"\"\"\n",
    "        :type node: ListNode\n",
    "        :rtype: void Do not return anything, modify node in-place instead.\n",
    "        \"\"\"\n",
    "        node.val = node.next.val\n",
    "        node.next = node.next.next\n",
    "        "
   ]
  },
  {
   "cell_type": "markdown",
   "metadata": {},
   "source": [
    "**Explanation:**\n",
    "\n",
    "\"Node\" is just a reference, like a pointer. `node = node.next` changes node from pointing to original node to next node. But the node list itself doesn't change."
   ]
  },
  {
   "cell_type": "markdown",
   "metadata": {},
   "source": [
    "### 206. Reverse Linked List\n",
    "Reverse a singly linked list."
   ]
  },
  {
   "cell_type": "code",
   "execution_count": 6,
   "metadata": {
    "collapsed": true
   },
   "outputs": [],
   "source": [
    "# Definition for singly-linked list.\n",
    "class ListNode(object):\n",
    "    def __init__(self, x):\n",
    "        self.val = x\n",
    "        self.next = None\n",
    "\n",
    "\n",
    "class Solution(object):\n",
    "    # Solution 1: Iterative\n",
    "    def reverseList1(self, head):\n",
    "        \"\"\"\n",
    "        :type head: ListNode\n",
    "        :rtype: ListNode\n",
    "        \"\"\"\n",
    "        prev = None\n",
    "        while head: # while head is not empty\n",
    "            curr = head\n",
    "            head = head.next\n",
    "            curr.next = prev\n",
    "            prev = curr\n",
    "        return prev\n",
    "\n",
    "    # Solution 2: Recursion\n",
    "    def reverseList2(self, head):\n",
    "        return self._reverse(head)\n",
    "    \n",
    "    def _reverse(self, node, prev = None):\n",
    "        if not node: # check if it's empty\n",
    "            return prev\n",
    "        \n",
    "        n = node.next\n",
    "        node.next = prev\n",
    "        \n",
    "        return self._reverse(n, node)     "
   ]
  },
  {
   "cell_type": "markdown",
   "metadata": {
    "collapsed": true
   },
   "source": [
    "### 66. Plus One\n",
    "Given a non-negative integer represented as a **non-empty** array of digits, plus one to the integer.\n",
    "\n",
    "You may assume the integer do not contain any leading zero, except the number 0 itself.\n",
    "\n",
    "The digits are stored such that the most significant digit is at the head of the list.\n",
    "\n",
    "给定一个整数3825， 表示为[3, 8, 2, 5],要求返回3826的各个digit as [3, 8, 2, 6]"
   ]
  },
  {
   "cell_type": "code",
   "execution_count": 3,
   "metadata": {
    "collapsed": true
   },
   "outputs": [],
   "source": [
    "class Solution(object):\n",
    "    def plusOne(self, digits):\n",
    "        \"\"\"\n",
    "        :type digits: List[int]\n",
    "        :rtype: List[int]\n",
    "        \"\"\"\n",
    "        num = 0\n",
    "        for i in range(len(digits)):\n",
    "            num += digits[i] * pow(10, (len(digits) - 1 - i))\n",
    "        \n",
    "        return [int(i) for i in str(num + 1)]\n",
    "        "
   ]
  },
  {
   "cell_type": "markdown",
   "metadata": {},
   "source": [
    "We're given a list of digits, and the idea here is to convert that list to an integer, num. So each digit is multiplied by the proper place value and added to num. For example, if digits = [3, 8, 2, 5] then on the first iteration 3 is multiplied by 10 to the power of 4-1-0 = 3, so this results in 3000, which is added to num. Then 8 is multiplied by 10^2 and added to num, and so on.\n",
    "\n",
    "The last step is to add 1 to num, convert it to a list and return that list.\n",
    "\n",
    "Run the code:"
   ]
  },
  {
   "cell_type": "code",
   "execution_count": 4,
   "metadata": {
    "collapsed": false
   },
   "outputs": [
    {
     "data": {
      "text/plain": [
       "[3, 8, 3, 0]"
      ]
     },
     "execution_count": 4,
     "metadata": {},
     "output_type": "execute_result"
    }
   ],
   "source": [
    "Solution().plusOne([3, 8, 2, 9])"
   ]
  },
  {
   "cell_type": "markdown",
   "metadata": {},
   "source": [
    "### 118. Pascal's Triangle\n",
    "Given *numRows*, generate the first *numRows* of Pascal's triangle.\n",
    "\n",
    "For example, given *numRows* = 5,\n",
    "\n",
    "Return\n",
    "[\n",
    "     [1],\n",
    "    [1,1],\n",
    "   [1,2,1],\n",
    "  [1,3,3,1],\n",
    " [1,4,6,4,1]\n",
    "]"
   ]
  },
  {
   "cell_type": "code",
   "execution_count": 33,
   "metadata": {
    "collapsed": true
   },
   "outputs": [],
   "source": [
    "class Solution(object):\n",
    "    def generate(self, numRows):\n",
    "        \"\"\"\n",
    "        :type numRows: int\n",
    "        :rtype: List[List[int]]\n",
    "        \"\"\"\n",
    "        res = [[1]]\n",
    "        for i in range(1, numRows):\n",
    "            res += [map(lambda x, y: x + y, res[-1] + [0], [0] + res[-1])]\n",
    "            # res[-1]: res的最后一个元素\n",
    "            \n",
    "        return res[: numRows]"
   ]
  },
  {
   "cell_type": "markdown",
   "metadata": {},
   "source": [
    "**Map** function. 思考是怎么构思出来的。\n",
    "\n",
    "Can use `[0] + [1, 2]` to add an element 0 to the existing list. Not necessary to use append method.\n",
    "\n",
    "Any row can be constructed using the offset sum of the previous row. For example:\n",
    "\n",
    "   1 3 3 1 0\n",
    "  \n",
    "\\+ 0 1 3 3 1\n",
    "\n",
    "= 1 4 6 4 1"
   ]
  },
  {
   "cell_type": "code",
   "execution_count": 35,
   "metadata": {
    "collapsed": false
   },
   "outputs": [
    {
     "data": {
      "text/plain": [
       "[[1], [1, 1], [1, 2, 1], [1, 3, 3, 1], [1, 4, 6, 4, 1]]"
      ]
     },
     "execution_count": 35,
     "metadata": {},
     "output_type": "execute_result"
    }
   ],
   "source": [
    "Solution().generate(5)"
   ]
  },
  {
   "cell_type": "markdown",
   "metadata": {},
   "source": [
    "### 300. Longest Increasing Subsequence (Medium)\n",
    "Given an unsorted array of integers, find the length of longest increasing subsequence.\n",
    "\n",
    "For example,\n",
    "\n",
    "Given [10, 9, 2, 5, 3, 7, 101, 18],\n",
    "\n",
    "The longest increasing subsequence is [2, 3, 7, 101], therefore the length is 4. Note that there may be more than one LIS combination, it is only necessary for you to return the length.\n",
    "\n",
    "Your algorithm should run in O(n2) complexity.\n",
    "\n",
    "**Follow up**: Could you improve it to O(n log n) time complexity?"
   ]
  },
  {
   "cell_type": "code",
   "execution_count": null,
   "metadata": {
    "collapsed": true
   },
   "outputs": [],
   "source": [
    "class Solution(object):\n",
    "    def lengthOfLIS(self, nums):\n",
    "        \"\"\"\n",
    "        :type nums: List[int]\n",
    "        :rtype: int\n",
    "        \"\"\"\n",
    "        "
   ]
  }
 ],
 "metadata": {
  "kernelspec": {
   "display_name": "Python 2",
   "language": "python",
   "name": "python2"
  },
  "language_info": {
   "codemirror_mode": {
    "name": "ipython",
    "version": 2
   },
   "file_extension": ".py",
   "mimetype": "text/x-python",
   "name": "python",
   "nbconvert_exporter": "python",
   "pygments_lexer": "ipython2",
   "version": "2.7.13"
  }
 },
 "nbformat": 4,
 "nbformat_minor": 2
}
