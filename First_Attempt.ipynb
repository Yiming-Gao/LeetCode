{
 "cells": [
  {
   "cell_type": "markdown",
   "metadata": {},
   "source": [
    "### 1. Two Sum\n",
    "Given an array of integers, return **indices** of the two numbers such that they add up to a specific target.\n",
    "\n",
    "You may assume that each input would have ***exactly*** one solution, and you may not use the same element twice.\n",
    "\n",
    "**Example**\n",
    "\n",
    "Given nums = [2, 7, 11, 15], target = 9,\n",
    "\n",
    "Because nums[0] + nums[1] = 2 + 7 = 9, return [0, 1]."
   ]
  },
  {
   "cell_type": "code",
   "execution_count": 1,
   "metadata": {
    "collapsed": true
   },
   "outputs": [],
   "source": [
    "class Solution(object):\n",
    "    def twoSum(self, nums, target):\n",
    "        if len(nums) <= 1:\n",
    "            return False\n",
    "        buff_dict = {}\n",
    "        for i in range(len(nums)):\n",
    "            if nums[i] in buff_dict:\n",
    "                return [buff_dict[nums[i]], i]\n",
    "            else:\n",
    "                buff_dict[target - nums[i]] = i"
   ]
  },
  {
   "cell_type": "markdown",
   "metadata": {},
   "source": [
    "Run the code:"
   ]
  },
  {
   "cell_type": "code",
   "execution_count": 2,
   "metadata": {
    "collapsed": false
   },
   "outputs": [
    {
     "data": {
      "text/plain": [
       "[1, 2]"
      ]
     },
     "execution_count": 2,
     "metadata": {},
     "output_type": "execute_result"
    }
   ],
   "source": [
    "# sol = Solution() # Get an instance of the class\n",
    "# sol.twoSum([3, 2, 4], 6) # Call the method twoSum of the instance\n",
    "\n",
    "Solution().twoSum([3, 2, 4], 6)"
   ]
  },
  {
   "cell_type": "markdown",
   "metadata": {},
   "source": [
    "### 412. Fizz Buzz\n",
    "\n",
    "Write a program that outputs the string representation of numbers from 1 to n.\n",
    "\n",
    "But for multiples of three it should output “Fizz” instead of the number and for the multiples of five output “Buzz”. For numbers which are multiples of both three and five output “FizzBuzz”.\n",
    "\n",
    "**Example**\n",
    "\n",
    "n = 15,\n",
    "\n",
    "Return:\n",
    "[\n",
    "    \"1\",\n",
    "    \"2\",\n",
    "    \"Fizz\",\n",
    "    \"4\",\n",
    "    \"Buzz\",\n",
    "    \"Fizz\",\n",
    "    \"7\",\n",
    "    \"8\",\n",
    "    \"Fizz\",\n",
    "    \"Buzz\",\n",
    "    \"11\",\n",
    "    \"Fizz\",\n",
    "    \"13\",\n",
    "    \"14\",\n",
    "    \"FizzBuzz\"\n",
    "]"
   ]
  },
  {
   "cell_type": "code",
   "execution_count": 39,
   "metadata": {
    "collapsed": false
   },
   "outputs": [],
   "source": [
    "class Solution(object):\n",
    "    def fizzBuzz(self, n):\n",
    "        \"\"\"\n",
    "        :type n: int\n",
    "        :rtype: List[str]\n",
    "        \"\"\"\n",
    "        # If i % 3 = False, (not i % 3) returns True; If i % 3 = True, (not i % 3) return False\n",
    "        # False == 0 & True == 1\n",
    "        ans = ['Fizz' * (not i % 3) + 'Buzz' * (not i % 5) or str(i) for i in range(1, n + 1)]\n",
    "                \n",
    "        return(ans)\n",
    "            "
   ]
  },
  {
   "cell_type": "markdown",
   "metadata": {},
   "source": [
    "Run the code:"
   ]
  },
  {
   "cell_type": "code",
   "execution_count": 40,
   "metadata": {
    "collapsed": false
   },
   "outputs": [
    {
     "data": {
      "text/plain": [
       "['1',\n",
       " '2',\n",
       " 'Fizz',\n",
       " '4',\n",
       " 'Buzz',\n",
       " 'Fizz',\n",
       " '7',\n",
       " '8',\n",
       " 'Fizz',\n",
       " 'Buzz',\n",
       " '11',\n",
       " 'Fizz',\n",
       " '13',\n",
       " '14',\n",
       " 'FizzBuzz']"
      ]
     },
     "execution_count": 40,
     "metadata": {},
     "output_type": "execute_result"
    }
   ],
   "source": [
    "Solution().fizzBuzz(15)"
   ]
  },
  {
   "cell_type": "markdown",
   "metadata": {},
   "source": [
    "### 344. Reverse String\n",
    "\n",
    "Write a function that takes a string as input and returns the string reversed.\n",
    "\n",
    "**Example**\n",
    "\n",
    "Given s = \"hello\", return \"olleh\"."
   ]
  },
  {
   "cell_type": "code",
   "execution_count": 50,
   "metadata": {
    "collapsed": true
   },
   "outputs": [],
   "source": [
    "class Solution(object):\n",
    "    def reverseString(self, s):\n",
    "        \"\"\"\n",
    "        :type s: str\n",
    "        :rtype: str\n",
    "        \"\"\"\n",
    "        if len(s) <= 1:\n",
    "            return(s)\n",
    "        else:\n",
    "            return(self.reverseString(s[len(s)/2: ]) + self.reverseString(s[: len(s)/2]))\n",
    "        # Or directly use built-in function return(s[:: -1])\n",
    "        "
   ]
  },
  {
   "cell_type": "markdown",
   "metadata": {},
   "source": [
    "Run the code:"
   ]
  },
  {
   "cell_type": "code",
   "execution_count": 51,
   "metadata": {
    "collapsed": false
   },
   "outputs": [
    {
     "data": {
      "text/plain": [
       "'neergadoS'"
      ]
     },
     "execution_count": 51,
     "metadata": {},
     "output_type": "execute_result"
    }
   ],
   "source": [
    "Solution().reverseString('Sodagreen')"
   ]
  },
  {
   "cell_type": "code",
   "execution_count": null,
   "metadata": {
    "collapsed": true
   },
   "outputs": [],
   "source": []
  }
 ],
 "metadata": {
  "kernelspec": {
   "display_name": "Python 2",
   "language": "python",
   "name": "python2"
  },
  "language_info": {
   "codemirror_mode": {
    "name": "ipython",
    "version": 2
   },
   "file_extension": ".py",
   "mimetype": "text/x-python",
   "name": "python",
   "nbconvert_exporter": "python",
   "pygments_lexer": "ipython2",
   "version": "2.7.13"
  }
 },
 "nbformat": 4,
 "nbformat_minor": 2
}
