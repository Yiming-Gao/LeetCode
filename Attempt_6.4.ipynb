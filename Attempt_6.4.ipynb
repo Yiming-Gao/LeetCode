{
 "cells": [
  {
   "cell_type": "markdown",
   "metadata": {},
   "source": [
    "### 53. Maximum Subarray\n",
    "Find the contiguous subarray within an array (containing at least one number) which has the largest sum.\n",
    "\n",
    "For example, given the array [-2,1,-3,4,-1,2,1,-5,4],\n",
    "the contiguous subarray [4,-1,2,1] has the largest sum = 6.\n",
    "\n",
    "**NOTE:**\n",
    "\n",
    "`if not A` (A is a list) to check if A is empty. If A is empty, returns True, otherwise returns False."
   ]
  },
  {
   "cell_type": "code",
   "execution_count": 7,
   "metadata": {
    "collapsed": true
   },
   "outputs": [],
   "source": [
    "class Solution(object):\n",
    "    def maxSubArray(self, nums):\n",
    "        \"\"\"\n",
    "        :type nums: List[int]\n",
    "        :rtype: int\n",
    "        \"\"\"\n",
    "        if not nums:\n",
    "            return 0\n",
    "        \n",
    "        current = max_sum = nums[0]\n",
    "        for item in nums[1: ]:\n",
    "            current = max(item, current + item)\n",
    "            max_sum = max(max_sum, current)\n",
    "        \n",
    "        return max_sum    "
   ]
  },
  {
   "cell_type": "markdown",
   "metadata": {},
   "source": [
    "<img src = \"53.jpg\">\n",
    "\n",
    "Run the code:"
   ]
  },
  {
   "cell_type": "code",
   "execution_count": 8,
   "metadata": {
    "collapsed": false
   },
   "outputs": [
    {
     "data": {
      "text/plain": [
       "6"
      ]
     },
     "execution_count": 8,
     "metadata": {},
     "output_type": "execute_result"
    }
   ],
   "source": [
    "Solution().maxSubArray([1, -3, 4, -1, 2, 1, -5, 4])"
   ]
  },
  {
   "cell_type": "markdown",
   "metadata": {},
   "source": [
    "### 238. Product of Array Except Self (Medium)\n",
    "Given an array of n integers where n > 1, nums, return an array output such that output[i] is equal to the product of all the elements of nums except nums[i].\n",
    "\n",
    "Solve it **without division** and in O(n).\n",
    "\n",
    "For example, given [1,2,3,4], return [24,12,8,6].\n",
    "\n",
    "**Follow up:**\n",
    "\n",
    "Could you solve it with constant space complexity? (Note: The output array does not count as extra space for the purpose of space complexity analysis.)"
   ]
  },
  {
   "cell_type": "code",
   "execution_count": 16,
   "metadata": {
    "collapsed": true
   },
   "outputs": [],
   "source": [
    "class Solution(object):\n",
    "    def productExceptSelf(self, nums):\n",
    "        \"\"\"\n",
    "        :type nums: List[int]\n",
    "        :rtype: List[int]\n",
    "        \"\"\"\n",
    "        p = 1\n",
    "        n = len(nums)\n",
    "        output = []\n",
    "        \n",
    "        for i in range(0, n): # range(0, 4): [0, 1, 2, 3]\n",
    "            output.append(p)\n",
    "            p = p * nums[i]\n",
    "        p = 1\n",
    "        \n",
    "        for i in range(n-1, -1, -1): # range(4, 0, -1) = [4, 3, 2, 1]\n",
    "            output[i] = output[i] * p\n",
    "            p = p * nums[i]\n",
    "            \n",
    "        return output"
   ]
  },
  {
   "cell_type": "markdown",
   "metadata": {},
   "source": [
    "Run the code:"
   ]
  },
  {
   "cell_type": "code",
   "execution_count": 17,
   "metadata": {
    "collapsed": false
   },
   "outputs": [
    {
     "data": {
      "text/plain": [
       "[24, 12, 8, 6]"
      ]
     },
     "execution_count": 17,
     "metadata": {},
     "output_type": "execute_result"
    }
   ],
   "source": [
    "Solution().productExceptSelf([1, 2, 3, 4])"
   ]
  },
  {
   "cell_type": "markdown",
   "metadata": {
    "collapsed": true
   },
   "source": [
    "### 237. Delete Node in a Linked List\n",
    "还没学过list，先看答案吧\n",
    "\n",
    "Write a function to delete a node (except the tail) in a singly linked list, given only access to that node.\n",
    "\n",
    "Supposed the linked list is 1 -> 2 -> 3 -> 4 and you are given the third node with value 3, the linked list should become 1 -> 2 -> 4 after calling your function."
   ]
  },
  {
   "cell_type": "code",
   "execution_count": 1,
   "metadata": {
    "collapsed": true
   },
   "outputs": [],
   "source": [
    "# Definition for singly-linked list.\n",
    "# class ListNode(object):\n",
    "#     def __init__(self, x):\n",
    "#         self.val = x\n",
    "#         self.next = None\n",
    "\n",
    "class Solution(object):\n",
    "    def deleteNode(self, node):\n",
    "        \"\"\"\n",
    "        :type node: ListNode\n",
    "        :rtype: void Do not return anything, modify node in-place instead.\n",
    "        \"\"\"\n",
    "        node.val = node.next.val\n",
    "        node.next = node.next.next\n",
    "        "
   ]
  },
  {
   "cell_type": "markdown",
   "metadata": {},
   "source": [
    "**Explanation:**\n",
    "\n",
    "\"Node\" is just a reference, like a pointer. `node = node.next` changes node from pointing to original node to next node. But the node list itself doesn't change."
   ]
  },
  {
   "cell_type": "markdown",
   "metadata": {},
   "source": [
    "### 206. Reverse Linked List\n",
    "Reverse a singly linked list."
   ]
  },
  {
   "cell_type": "code",
   "execution_count": 6,
   "metadata": {
    "collapsed": true
   },
   "outputs": [],
   "source": [
    "# Definition for singly-linked list.\n",
    "class ListNode(object):\n",
    "    def __init__(self, x):\n",
    "        self.val = x\n",
    "        self.next = None\n",
    "\n",
    "\n",
    "class Solution(object):\n",
    "    # Solution 1: Iterative\n",
    "    def reverseList1(self, head):\n",
    "        \"\"\"\n",
    "        :type head: ListNode\n",
    "        :rtype: ListNode\n",
    "        \"\"\"\n",
    "        prev = None\n",
    "        while head: # while head is not empty\n",
    "            curr = head\n",
    "            head = head.next\n",
    "            curr.next = prev\n",
    "            prev = curr\n",
    "        return prev\n",
    "\n",
    "    # Solution 2: Recursion\n",
    "    def reverseList2(self, head):\n",
    "        return self._reverse(head)\n",
    "    \n",
    "    def _reverse(self, node, prev = None):\n",
    "        if not node: # check if it's empty\n",
    "            return prev\n",
    "        \n",
    "        n = node.next\n",
    "        node.next = prev\n",
    "        \n",
    "        return self._reverse(n, node)     "
   ]
  },
  {
   "cell_type": "markdown",
   "metadata": {
    "collapsed": true
   },
   "source": [
    "### 66. Plus One\n",
    "Given a non-negative integer represented as a **non-empty** array of digits, plus one to the integer.\n",
    "\n",
    "You may assume the integer do not contain any leading zero, except the number 0 itself.\n",
    "\n",
    "The digits are stored such that the most significant digit is at the head of the list.\n",
    "\n",
    "给定一个整数3825， 表示为[3, 8, 2, 5],要求返回3826的各个digit as [3, 8, 2, 6]"
   ]
  },
  {
   "cell_type": "code",
   "execution_count": 3,
   "metadata": {
    "collapsed": true
   },
   "outputs": [],
   "source": [
    "class Solution(object):\n",
    "    def plusOne(self, digits):\n",
    "        \"\"\"\n",
    "        :type digits: List[int]\n",
    "        :rtype: List[int]\n",
    "        \"\"\"\n",
    "        num = 0\n",
    "        for i in range(len(digits)):\n",
    "            num += digits[i] * pow(10, (len(digits) - 1 - i))\n",
    "        \n",
    "        return [int(i) for i in str(num + 1)]\n",
    "        "
   ]
  },
  {
   "cell_type": "markdown",
   "metadata": {},
   "source": [
    "We're given a list of digits, and the idea here is to convert that list to an integer, num. So each digit is multiplied by the proper place value and added to num. For example, if digits = [3, 8, 2, 5] then on the first iteration 3 is multiplied by 10 to the power of 4-1-0 = 3, so this results in 3000, which is added to num. Then 8 is multiplied by 10^2 and added to num, and so on.\n",
    "\n",
    "The last step is to add 1 to num, convert it to a list and return that list.\n",
    "\n",
    "Run the code:"
   ]
  },
  {
   "cell_type": "code",
   "execution_count": 4,
   "metadata": {
    "collapsed": false
   },
   "outputs": [
    {
     "data": {
      "text/plain": [
       "[3, 8, 3, 0]"
      ]
     },
     "execution_count": 4,
     "metadata": {},
     "output_type": "execute_result"
    }
   ],
   "source": [
    "Solution().plusOne([3, 8, 2, 9])"
   ]
  },
  {
   "cell_type": "markdown",
   "metadata": {},
   "source": [
    "### 118. Pascal's Triangle\n",
    "Given *numRows*, generate the first *numRows* of Pascal's triangle.\n",
    "\n",
    "For example, given *numRows* = 5,\n",
    "\n",
    "Return\n",
    "[\n",
    "     [1],\n",
    "    [1,1],\n",
    "   [1,2,1],\n",
    "  [1,3,3,1],\n",
    " [1,4,6,4,1]\n",
    "]"
   ]
  },
  {
   "cell_type": "code",
   "execution_count": 33,
   "metadata": {
    "collapsed": true
   },
   "outputs": [],
   "source": [
    "class Solution(object):\n",
    "    def generate(self, numRows):\n",
    "        \"\"\"\n",
    "        :type numRows: int\n",
    "        :rtype: List[List[int]]\n",
    "        \"\"\"\n",
    "        res = [[1]]\n",
    "        for i in range(1, numRows):\n",
    "            res += [map(lambda x, y: x + y, res[-1] + [0], [0] + res[-1])]\n",
    "            # res[-1]: res的最后一个元素\n",
    "            \n",
    "        return res[: numRows]"
   ]
  },
  {
   "cell_type": "markdown",
   "metadata": {},
   "source": [
    "**Map** function. 思考是怎么构思出来的。\n",
    "\n",
    "Can use `[0] + [1, 2]` to add an element 0 to the existing list. Not necessary to use append method.\n",
    "\n",
    "Any row can be constructed using the offset sum of the previous row. For example:\n",
    "\n",
    "   1 3 3 1 0\n",
    "  \n",
    "\\+ 0 1 3 3 1\n",
    "\n",
    "= 1 4 6 4 1"
   ]
  },
  {
   "cell_type": "code",
   "execution_count": 35,
   "metadata": {
    "collapsed": false
   },
   "outputs": [
    {
     "data": {
      "text/plain": [
       "[[1], [1, 1], [1, 2, 1], [1, 3, 3, 1], [1, 4, 6, 4, 1]]"
      ]
     },
     "execution_count": 35,
     "metadata": {},
     "output_type": "execute_result"
    }
   ],
   "source": [
    "Solution().generate(5)"
   ]
  },
  {
   "cell_type": "markdown",
   "metadata": {},
   "source": [
    "### 300. Longest Increasing Subsequence (Medium)\n",
    "Given an unsorted array of integers, find the length of longest increasing subsequence.\n",
    "\n",
    "For example,\n",
    "\n",
    "Given [10, 9, 2, 5, 3, 7, 101, 18],\n",
    "\n",
    "The longest increasing subsequence is [2, 3, 7, 101], therefore the length is 4. Note that there may be more than one LIS combination, it is only necessary for you to return the length.\n",
    "\n",
    "Your algorithm should run in O($n^2$) complexity.\n",
    "\n",
    "**Follow up**: Could you improve it to O(n log n) time complexity?"
   ]
  },
  {
   "cell_type": "markdown",
   "metadata": {},
   "source": [
    "***Binary Search O(nlogn)*** Solution1\n",
    "\n",
    "`tails` is an array storing the *smallest tail* of all increasing subsequences with length `i + 1` in `tails[i]`.\n",
    "\n",
    "For example, we have `nums = [4, 5, 6, 3]`, then all the available increasing subsequences are:\n",
    "\n",
    "len = 1 : [4], [5], [6], [3] $\\Rightarrow$ tails[0] = 3\n",
    "\n",
    "len = 2 : [4, 5], [5, 6] $\\Rightarrow$ tails[1] = 5\n",
    "\n",
    "len = 3 : [4, 5, 6] $\\Rightarrow$ tails[2] = 6\n",
    "\n",
    "We can easily prove that `tails` is **an increasing array**. Therefore it is possible to do a **binary search** in tails array to find the one needs update. （在increasing array中方便做binary search，从这个角度想办法构造increasing array?）\n",
    "\n",
    "Each time we only do one of the two:\n",
    "\n",
    "(1) If x is larger than **all** tails, **append** it, increase the size by 1\n",
    "\n",
    "(2) If tails[i - 1] < x <= tails[i], **update** tails[i], 当不唯一时，取最小的那个，比如上面的[2, 3, 7, 18]而不是[2, 3, 7, 101]."
   ]
  },
  {
   "cell_type": "code",
   "execution_count": 42,
   "metadata": {
    "collapsed": true
   },
   "outputs": [],
   "source": [
    "class Solution(object):\n",
    "    def lengthOfLIS1(self, nums):\n",
    "        \"\"\"\n",
    "        :type nums: List[int]\n",
    "        :rtype: int\n",
    "        \"\"\"\n",
    "        tails = [0] * len(nums)\n",
    "        size = 0\n",
    "        for x in nums:\n",
    "            i, j = 0, size\n",
    "            while i != j:\n",
    "                m = (i + j) / 2 # binary search\n",
    "                if tails[m] < x:\n",
    "                    i = m + 1\n",
    "                else:\n",
    "                    j = m\n",
    "            tails[i] = x\n",
    "            size = max(i + 1, size)\n",
    "            \n",
    "        return size\n",
    "    \n",
    "    def lengthOfLIS2(self, nums):\n",
    "        \"\"\"\n",
    "        :type nums: List[int]\n",
    "        :rtype: int\n",
    "        \"\"\"\n",
    "        if not nums:\n",
    "            return 0\n",
    "        \n",
    "        dp = [0] * len(nums)\n",
    "        for i in range (1, len(nums)):\n",
    "            for j in range(i):\n",
    "                if nums[i] > nums[j]:\n",
    "                    dp[i] = max(dp[i], dp[j] + 1)\n",
    "                    \n",
    "        return max(dp) + 1"
   ]
  },
  {
   "cell_type": "code",
   "execution_count": 43,
   "metadata": {
    "collapsed": false
   },
   "outputs": [
    {
     "data": {
      "text/plain": [
       "4"
      ]
     },
     "execution_count": 43,
     "metadata": {},
     "output_type": "execute_result"
    }
   ],
   "source": [
    "Solution().lengthOfLIS2([10, 9, 2, 5, 3, 7, 101, 18])"
   ]
  },
  {
   "cell_type": "markdown",
   "metadata": {},
   "source": [
    "### 172. Factorial Trailing Zeroes\n",
    "Given an integer n, return the number of trailing zeroes in n!.\n",
    "\n",
    "**Note:** Your solution should be in logarithmic time complexity.\n",
    "\n",
    "**Solution:**\n",
    "\n",
    "Because all trailing 0 is from factors 5 * 2.\n",
    "\n",
    "But sometimes one number may have several 5 factors, for example, 25 has two 5 factors, 125 has three 5 factors. In the n! operation, *factors 2 are always ample.* 2的个数总是大于5的个数。So we just count how many 5 factors in all number from 1 to n."
   ]
  },
  {
   "cell_type": "code",
   "execution_count": 58,
   "metadata": {
    "collapsed": true
   },
   "outputs": [],
   "source": [
    "class Solution(object):\n",
    "    def trailingZeroes(self, n):\n",
    "        \"\"\"\n",
    "        :type n: int\n",
    "        :rtype: int\n",
    "        \"\"\"\n",
    "        if n == 0:\n",
    "            return 0\n",
    "        \n",
    "        else:\n",
    "            return n / 5 + self.trailingZeroes(n / 5)\n",
    "        "
   ]
  },
  {
   "cell_type": "code",
   "execution_count": 59,
   "metadata": {
    "collapsed": false
   },
   "outputs": [
    {
     "data": {
      "text/plain": [
       "12"
      ]
     },
     "execution_count": 59,
     "metadata": {},
     "output_type": "execute_result"
    }
   ],
   "source": [
    "Solution().trailingZeroes(50)"
   ]
  },
  {
   "cell_type": "markdown",
   "metadata": {},
   "source": [
    "### 26. Remove Duplicates from Sorted Array\n",
    "Given a sorted array, remove the duplicates in place such that each element appear only *once* and return the new length.\n",
    "\n",
    "Do not allocate extra space for another array, you must do this in place with *constant memory*.\n",
    "\n",
    "For example,\n",
    "Given input array nums = [1,1,2],\n",
    "\n",
    "Your function should return length = 2, with the first two elements of nums being 1 and 2 respectively. It doesn't matter what you leave beyond the new length."
   ]
  },
  {
   "cell_type": "code",
   "execution_count": 70,
   "metadata": {
    "collapsed": false
   },
   "outputs": [],
   "source": [
    "class Solution(object):\n",
    "    # O(n) complexity\n",
    "    def removeDuplicates(self, nums):\n",
    "        \"\"\"\n",
    "        :type nums: List[int]\n",
    "        :rtype: int\n",
    "        \"\"\"\n",
    "        if not nums:\n",
    "            return 0\n",
    "        \n",
    "        tail = 0\n",
    "        \n",
    "        for i in range(1, len(nums)):\n",
    "            if nums[i] != nums[tail]: # not a duplicate\n",
    "                tail += 1\n",
    "                nums[tail] = nums[i]\n",
    "            \n",
    "        return tail + 1\n",
    "        "
   ]
  },
  {
   "cell_type": "code",
   "execution_count": 71,
   "metadata": {
    "collapsed": false
   },
   "outputs": [
    {
     "data": {
      "text/plain": [
       "2"
      ]
     },
     "execution_count": 71,
     "metadata": {},
     "output_type": "execute_result"
    }
   ],
   "source": [
    "Solution().removeDuplicates([1, 1, 2])"
   ]
  },
  {
   "cell_type": "markdown",
   "metadata": {},
   "source": [
    "## 88. Merge Sorted Array (可能会考)\n",
    "Given two sorted integer arrays *nums1* and *nums2*, merge *nums2* into *nums1* as one sorted array.\n",
    "\n",
    "**Note:**\n",
    "\n",
    "You may assume that nums1 has enough space (size that is greater or equal to *m + n*) to hold additional elements from nums2. The number of elements initialized in nums1 and nums2 are m and n respectively."
   ]
  },
  {
   "cell_type": "code",
   "execution_count": 68,
   "metadata": {
    "collapsed": false
   },
   "outputs": [
    {
     "data": {
      "text/plain": [
       "[1, 2]"
      ]
     },
     "execution_count": 68,
     "metadata": {},
     "output_type": "execute_result"
    }
   ],
   "source": [
    "class Solution(object):\n",
    "    def merge(self, nums1, m, nums2, n):\n",
    "        \"\"\"\n",
    "        :type nums1: List[int]\n",
    "        :type m: int\n",
    "        :type nums2: List[int]\n",
    "        :type n: int\n",
    "        :rtype: void Do not return anything, modify nums1 in-place instead.\n",
    "        \"\"\"\n",
    "        while n > 0:\n",
    "            # append the last element of nums2 to nums1\n",
    "            if m <= 0 or nums1[m-1] <= nums2[n-1]:\n",
    "                nums1[m+n-1] = nums2[n-1]\n",
    "                n -= 1\n",
    "            else:\n",
    "                # make the larger one of last element of nums1 and nums2\n",
    "                # the last element of new nums1\n",
    "                nums1[m+n-1] = nums1[m-1]\n",
    "                m -= 1"
   ]
  },
  {
   "cell_type": "markdown",
   "metadata": {
    "collapsed": true
   },
   "source": [
    "### 14. Longest Common Prefix\n",
    "Write a function to find the longest common prefix string amongst an array of strings.\n",
    "\n",
    "For example:\n",
    "\n",
    "1. {\"a\", \"a\", \"b\"} should give \"\" as there is nothing common in all the 3 strings.\n",
    "\n",
    "2. {\"abca\", \"abc\"} as \"abc\"\n",
    "\n",
    "**Logic:**\n",
    "\n",
    "1. Pick a character at i = 0th location and compare it with the character at that location in every string.\n",
    "\n",
    "2. If anyone doesn't have that just return \"\".\n",
    "\n",
    "3. Else append that character into the result.\n",
    "\n",
    "4. Increment i and do steps 1-3 till the length of that string.\n",
    "\n",
    "5. Return result.\n",
    "\n",
    "NOTE: Make sure proper checks are maintained to avoid index out of bounds error.\n",
    "\n",
    "**zip()** function returns a list of tuples, where the i-th tuple contains the i-th argument from each of the argument sequences or iterables. The returned list is truncated in length to the ***length of the shortest argument sequence***.\n",
    "\n",
    "**reduce()** function: Apply function of two arguments cumulatively to the items of iterable, from left to right, so as to reduce the iterable to a single value. For example, `reduce(lambda x, y: x+y, [1, 2, 3, 4, 5])` calculates ((((1+2)+3)+4)+5). The left argument, x, is the accumulated value and the right argument, y, is the update value from the iterable."
   ]
  },
  {
   "cell_type": "code",
   "execution_count": 24,
   "metadata": {
    "collapsed": false
   },
   "outputs": [
    {
     "name": "stdout",
     "output_type": "stream",
     "text": [
      "[('a', 'a'), ('b', 'b'), ('d', 'c')]\n",
      "[(0, ('a', 'a')), (1, ('b', 'b')), (2, ('d', 'c'))]\n"
     ]
    }
   ],
   "source": [
    "# Test\n",
    "strs = [\"abd\", \"abc\"]\n",
    "print(zip(*strs))\n",
    "print(list(enumerate(zip(*strs))))\n"
   ]
  },
  {
   "cell_type": "code",
   "execution_count": 28,
   "metadata": {
    "collapsed": true
   },
   "outputs": [],
   "source": [
    "class Solution(object):\n",
    "    def longestCommonPrefix1(self, strs):\n",
    "        \"\"\"\n",
    "        Use zip()\n",
    "        \"\"\"\n",
    "        if not strs:\n",
    "            return \"\"\n",
    "        \n",
    "        for i, letter_group in enumerate(zip(*strs)):\n",
    "            if len(set(letter_group)) > 1:\n",
    "                return strs[0][:i]\n",
    "            \n",
    "        else: # if \n",
    "            return min(strs)\n",
    "        \n",
    "    def lcp(self, str1, str2):\n",
    "        i = 0\n",
    "        while (i < len(str1) and i < len(str2)):\n",
    "            if str1[i] == str2[i]:\n",
    "                i = i+1\n",
    "            else:\n",
    "                break\n",
    "        return str1[:i]\n",
    "                                                                                                                                                        \n",
    "    def longestCommonPrefix2(self, strs):\n",
    "        '''\n",
    "        Use reduce()\n",
    "        '''\n",
    "        if not strs:\n",
    "            return ''\n",
    "        else:\n",
    "            return reduce(self.lcp, strs)"
   ]
  },
  {
   "cell_type": "markdown",
   "metadata": {},
   "source": [
    "Run the code:"
   ]
  },
  {
   "cell_type": "code",
   "execution_count": 29,
   "metadata": {
    "collapsed": false
   },
   "outputs": [
    {
     "data": {
      "text/plain": [
       "'ab'"
      ]
     },
     "execution_count": 29,
     "metadata": {},
     "output_type": "execute_result"
    }
   ],
   "source": [
    "Solution().longestCommonPrefix2([\"abd\", \"abc\"])"
   ]
  },
  {
   "cell_type": "markdown",
   "metadata": {},
   "source": [
    "### 389. Find the Difference\n",
    "Given two strings **s** and **t** which consist of only lowercase letters.\n",
    "\n",
    "String **t** is generated by random shuffling string **s** and then add one more letter at a random position.\n",
    "\n",
    "Find the letter that was added in **t**.\n",
    "\n",
    "**Example:**\n",
    "\n",
    "Input:\n",
    "\n",
    "s = \"abcd\", t = \"abcde\"\n",
    "\n",
    "Output:\n",
    "e\n",
    "\n",
    "Explanation:\n",
    "'e' is the letter that was added."
   ]
  },
  {
   "cell_type": "code",
   "execution_count": 43,
   "metadata": {
    "collapsed": false
   },
   "outputs": [
    {
     "name": "stdout",
     "output_type": "stream",
     "text": [
      "[('a', 'a'), ('b', 'b'), ('d', 'c')]\n"
     ]
    }
   ],
   "source": [
    "# test\n",
    "s = sorted(\"abd\") # ['a', 'b', 'd']\n",
    "t = sorted(\"dbac\") # ['a', 'b', 'c', 'd']\n",
    "\n",
    "print(zip(s, t))\n",
    "\n",
    "# 第二种情况 if item[0] != item[1] ('d' != 'c')\n",
    "# return item[1] ('c')"
   ]
  },
  {
   "cell_type": "code",
   "execution_count": 44,
   "metadata": {
    "collapsed": true
   },
   "outputs": [],
   "source": [
    "class Solution(object):\n",
    "    def findTheDifference(self, s, t):\n",
    "        \"\"\"\n",
    "        :type s: str\n",
    "        :type t: str\n",
    "        :rtype: str\n",
    "        \"\"\"\n",
    "        s, t = sorted(s), sorted(t)\n",
    "        \n",
    "        if s == t[:-1]:\n",
    "            return t[-1]\n",
    "        \n",
    "        else: \n",
    "            return [item[1] for item in zip(s, t) if item[0] != item[1]][0]\n",
    "        "
   ]
  },
  {
   "cell_type": "code",
   "execution_count": 45,
   "metadata": {
    "collapsed": false
   },
   "outputs": [
    {
     "data": {
      "text/plain": [
       "'c'"
      ]
     },
     "execution_count": 45,
     "metadata": {},
     "output_type": "execute_result"
    }
   ],
   "source": [
    "Solution().findTheDifference(s, t)"
   ]
  },
  {
   "cell_type": "markdown",
   "metadata": {},
   "source": [
    "### 226. Invert Binary Tree\n",
    "    \n",
    "还没看过关于Tree的问题，先看solution加深理解。\n",
    "\n",
    "    4 \n",
    "     \n",
    "   /   \\\n",
    "   \n",
    "  2     7\n",
    "  \n",
    " / \\   / \\\n",
    "1   3 6   9\n",
    "\n",
    "to \n",
    "\n",
    "     4\n",
    "     \n",
    "   /   \\\n",
    "   \n",
    "  7     2\n",
    "  \n",
    " / \\   / \\\n",
    "9   6 3   1\n",
    "\n",
    "**collections.deque() usage: **https://docs.python.org/2/library/collections.html#collections.deque"
   ]
  },
  {
   "cell_type": "code",
   "execution_count": 46,
   "metadata": {
    "collapsed": true
   },
   "outputs": [],
   "source": [
    "# Definition for a binary tree node.\n",
    "# class TreeNode(object):\n",
    "#     def __init__(self, x):\n",
    "#         self.val = x\n",
    "#         self.left = None\n",
    "#         self.right = None\n",
    "\n",
    "import collections\n",
    "class Solution(object):\n",
    "    def invertTree1(self, root):\n",
    "        \"\"\"\n",
    "        :type root: TreeNode\n",
    "        :rtype: TreeNode\n",
    "        \"\"\"\n",
    "        if root:\n",
    "            root.left, root.right = self.invertTree1(root.right), self.invertTree1(root.left)\n",
    "            return root\n",
    "\n",
    "    \n",
    "    def invertTree2(self, root):\n",
    "        \n",
    "        if root:\n",
    "            invert = self.invertTree # define a recursive function as itself\n",
    "            root.left, root.right = invert(root.right), invert(root.left)\n",
    "            return root\n",
    "        \n",
    "    # BFS\n",
    "    def invertTree3(self, root):\n",
    "        \n",
    "        queue = collections.deque([(root)])\n",
    "        while queue:\n",
    "            node = queue.popleft()\n",
    "            if node:\n",
    "                node.left, node.right = node.right, node.left\n",
    "                queue.append(node.left)\n",
    "                queue.append(node.right)\n",
    "        return root\n",
    "    \n",
    "    # DFS\n",
    "    def invertTree4(self, root):\n",
    "        stack = [root]\n",
    "        while stack:\n",
    "            node = stack.pop()\n",
    "            if node:\n",
    "                node.left, node.right = node.right, node.left\n",
    "                stack.extend([node.right, node.left])\n",
    "        return root"
   ]
  },
  {
   "cell_type": "markdown",
   "metadata": {},
   "source": [
    "### 617. Merge Two Binary Trees\n",
    "Given two binary trees and imagine that when you put one of them to cover the other, some nodes of the two trees are overlapped while the others are not.\n",
    "\n",
    "You need to merge them into a new binary tree. The merge rule is that if two nodes overlap, then sum node values up as the new value of the merged node. Otherwise, the NOT null node will be used as the node of new tree.\n",
    "\n",
    "**Example:**\n",
    "\n",
    "Input:\n",
    "\n",
    "Tree 1                      Tree 2\n",
    "\n",
    "     1                        2\n",
    "    \n",
    "    / \\                      / \\\n",
    "    \n",
    "   3   2                    1   3\n",
    "   \n",
    "  /                          \\    \\\n",
    "  \n",
    "  5                           4     7\n",
    "  \n",
    "Output:\n",
    "\n",
    "Merged tree:\n",
    "\n",
    "      3\n",
    "    \n",
    "    /   \\\n",
    "    \n",
    "    4   5\n",
    "    \n",
    "   / \\    \\\n",
    "   \n",
    "  5   4    7\n",
    "\n",
    "**Note:** The merging process must start from the root nodes of both trees.\n",
    "\n",
    "***Explanation***\n",
    "\n",
    "- If both trees are empty then we return empty\n",
    "\n",
    "- Otherwise, we will return a tree. The root value will be t1.val + t2.val\n",
    "\n",
    "- The left child will be the merge of t1.left and t2.left"
   ]
  },
  {
   "cell_type": "code",
   "execution_count": 5,
   "metadata": {
    "collapsed": true
   },
   "outputs": [],
   "source": [
    "# Definition for a binary tree node.\n",
    "class TreeNode(object):\n",
    "    def __init__(self, x):\n",
    "        self.val = x\n",
    "        self.left = None\n",
    "        self.right = None\n",
    "\n",
    "class Solution(object):\n",
    "    def mergeTrees(self, t1, t2):\n",
    "        \"\"\"\n",
    "        :type t1: TreeNode\n",
    "        :type t2: TreeNode\n",
    "        :rtype: TreeNode\n",
    "        \"\"\"\n",
    "        if t1 and t2:\n",
    "            root = TreeNode(t1.val + t2.val)\n",
    "            root.left = self.mergeTrees(t1.left, t2.left)\n",
    "            root.right = self.mergeTrees(t1.right, t2.right)\n",
    "            return root\n",
    "        \n",
    "        else:\n",
    "            return t1 or t2"
   ]
  },
  {
   "cell_type": "markdown",
   "metadata": {},
   "source": [
    "### 258. Add Digits\n",
    "Given a non-negative integer num, repeatedly add all its digits until the result has only one digit.\n",
    "\n",
    "For example:\n",
    "\n",
    "Given num = 38, the process is like: 3 + 8 = 11, 1 + 1 = 2. Since 2 has only one digit, return it.\n",
    "\n",
    "**Follow up:**\n",
    "\n",
    "Could you do it without any loop/recursion in O(1) runtime? (观察数学规律)"
   ]
  },
  {
   "cell_type": "code",
   "execution_count": 2,
   "metadata": {
    "collapsed": true
   },
   "outputs": [],
   "source": [
    "class Solution(object):\n",
    "    def addDigits(self, num):\n",
    "        \"\"\"\n",
    "        :type num: int\n",
    "        :rtype: int\n",
    "        \"\"\"\n",
    "        \n",
    "        if num == 0:\n",
    "            return 0\n",
    "            \n",
    "        else:\n",
    "            return (num - 1)%9 + 1\n",
    "        "
   ]
  },
  {
   "cell_type": "code",
   "execution_count": 3,
   "metadata": {
    "collapsed": false
   },
   "outputs": [
    {
     "data": {
      "text/plain": [
       "2"
      ]
     },
     "execution_count": 3,
     "metadata": {},
     "output_type": "execute_result"
    }
   ],
   "source": [
    "Solution().addDigits(38)"
   ]
  },
  {
   "cell_type": "markdown",
   "metadata": {
    "collapsed": true
   },
   "source": [
    "### 561. Array Partition I "
   ]
  }
 ],
 "metadata": {
  "kernelspec": {
   "display_name": "Python 2",
   "language": "python",
   "name": "python2"
  },
  "language_info": {
   "codemirror_mode": {
    "name": "ipython",
    "version": 2
   },
   "file_extension": ".py",
   "mimetype": "text/x-python",
   "name": "python",
   "nbconvert_exporter": "python",
   "pygments_lexer": "ipython2",
   "version": "2.7.13"
  }
 },
 "nbformat": 4,
 "nbformat_minor": 2
}
