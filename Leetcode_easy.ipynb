{
 "cells": [
  {
   "cell_type": "markdown",
   "metadata": {
    "toc": true
   },
   "source": [
    "<h1>Table of Contents<span class=\"tocSkip\"></span></h1>\n",
    "<div class=\"toc\"><ul class=\"toc-item\"><li><span><a href=\"#1.-Two-sum\" data-toc-modified-id=\"1.-Two-sum-1\">1. Two sum</a></span></li><li><span><a href=\"#7.-Reverse-Integer\" data-toc-modified-id=\"7.-Reverse-Integer-2\">7. Reverse Integer</a></span></li><li><span><a href=\"#9.-Palindrome-Number\" data-toc-modified-id=\"9.-Palindrome-Number-3\">9. Palindrome Number</a></span></li><li><span><a href=\"#13.-Roman-to-Integer\" data-toc-modified-id=\"13.-Roman-to-Integer-4\">13. Roman to Integer</a></span></li><li><span><a href=\"#14.-Longest-Common-Prefix\" data-toc-modified-id=\"14.-Longest-Common-Prefix-5\">14. Longest Common Prefix</a></span></li><li><span><a href=\"#20.-Valid-Parentheses\" data-toc-modified-id=\"20.-Valid-Parentheses-6\">20. Valid Parentheses</a></span></li><li><span><a href=\"#21.-Merge-Two-Sorted-Lists\" data-toc-modified-id=\"21.-Merge-Two-Sorted-Lists-7\">21. Merge Two Sorted Lists</a></span></li><li><span><a href=\"#26.-Remove-Duplicates-from-Sorted-Array\" data-toc-modified-id=\"26.-Remove-Duplicates-from-Sorted-Array-8\">26. Remove Duplicates from Sorted Array</a></span></li><li><span><a href=\"#27.-Remove-Element\" data-toc-modified-id=\"27.-Remove-Element-9\">27. Remove Element</a></span></li></ul></div>"
   ]
  },
  {
   "cell_type": "markdown",
   "metadata": {},
   "source": [
    "#### 1. Two sum"
   ]
  },
  {
   "cell_type": "code",
   "execution_count": 1,
   "metadata": {},
   "outputs": [],
   "source": [
    "def twoSum(nums, target):\n",
    "    \"\"\"\n",
    "    :type nums: List[int]\n",
    "    :type target: int\n",
    "    :rtype: List[int]\n",
    "    \"\"\"\n",
    "    # two points\n",
    "    nums_index = [(v, index) for index, v in enumerate(nums)]\n",
    "    nums_index.sort()\n",
    "    begin, end = 0, len(nums) - 1\n",
    "    while begin < end:\n",
    "        curr = nums_index[begin][0] + nums_index[end][0]\n",
    "        if curr == target:\n",
    "            return([nums_index[begin][1], nums_index[end][1]])\n",
    "        elif curr < target:\n",
    "            begin += 1\n",
    "        else: \n",
    "            end -= 1"
   ]
  },
  {
   "cell_type": "markdown",
   "metadata": {},
   "source": [
    "Test:"
   ]
  },
  {
   "cell_type": "code",
   "execution_count": 3,
   "metadata": {},
   "outputs": [
    {
     "data": {
      "text/plain": [
       "[1, 4]"
      ]
     },
     "execution_count": 3,
     "metadata": {},
     "output_type": "execute_result"
    }
   ],
   "source": [
    "twoSum([1, 4, 9 ,6, 5], 9)"
   ]
  },
  {
   "cell_type": "markdown",
   "metadata": {},
   "source": [
    "#### 7. Reverse Integer"
   ]
  },
  {
   "cell_type": "code",
   "execution_count": 5,
   "metadata": {},
   "outputs": [],
   "source": [
    "def reverse(x):\n",
    "    \"\"\"\n",
    "    :type x: int\n",
    "    :rtype: int\n",
    "    \"\"\"\n",
    "    # Floor division - division that results into whole number adjusted to the left in the number line\n",
    "    # -1 //10 = -1\n",
    "    res, isPos = 0, 1\n",
    "    if (x < 0):\n",
    "        isPos = -1\n",
    "        x = -1 * x\n",
    "            \n",
    "    while (x != 0):\n",
    "        res = res * 10 + x % 10\n",
    "        if res > 2 ** 31:\n",
    "            return(0)\n",
    "        x //= 10\n",
    "    return(res * isPos)"
   ]
  },
  {
   "cell_type": "markdown",
   "metadata": {},
   "source": [
    "Test:"
   ]
  },
  {
   "cell_type": "code",
   "execution_count": 6,
   "metadata": {},
   "outputs": [
    {
     "data": {
      "text/plain": [
       "9821"
      ]
     },
     "execution_count": 6,
     "metadata": {},
     "output_type": "execute_result"
    }
   ],
   "source": [
    "reverse(1289)"
   ]
  },
  {
   "cell_type": "code",
   "execution_count": 8,
   "metadata": {},
   "outputs": [
    {
     "data": {
      "text/plain": [
       "-81"
      ]
     },
     "execution_count": 8,
     "metadata": {},
     "output_type": "execute_result"
    }
   ],
   "source": [
    "reverse(-18)"
   ]
  },
  {
   "cell_type": "markdown",
   "metadata": {},
   "source": [
    "#### 9. Palindrome Number\n",
    "Determine whether an integer is a palindrome. An integer is a palindrome when it reads the same backward as forward."
   ]
  },
  {
   "cell_type": "code",
   "execution_count": 18,
   "metadata": {},
   "outputs": [],
   "source": [
    "def isPalindrome(x):\n",
    "    if x < 0:\n",
    "        return False\n",
    "\n",
    "    rev = 0\n",
    "    copy = x\n",
    "    while copy != 0:\n",
    "        rev = rev * 10 + copy % 10\n",
    "        copy = copy // 10\n",
    "    if rev == x:\n",
    "        return True\n",
    "    else:\n",
    "        return False"
   ]
  },
  {
   "cell_type": "code",
   "execution_count": 19,
   "metadata": {},
   "outputs": [
    {
     "data": {
      "text/plain": [
       "False"
      ]
     },
     "execution_count": 19,
     "metadata": {},
     "output_type": "execute_result"
    }
   ],
   "source": [
    "isPalindrome(-121)"
   ]
  },
  {
   "cell_type": "code",
   "execution_count": 20,
   "metadata": {},
   "outputs": [
    {
     "data": {
      "text/plain": [
       "True"
      ]
     },
     "execution_count": 20,
     "metadata": {},
     "output_type": "execute_result"
    }
   ],
   "source": [
    "isPalindrome(13231)"
   ]
  },
  {
   "cell_type": "markdown",
   "metadata": {},
   "source": [
    "#### 13. Roman to Integer\n",
    "| Symbol | Value  |\n",
    "|------|------|\n",
    "|I | 1\n",
    "|V | 5\n",
    "|X | 10\n",
    "|L | 50\n",
    "|C | 100\n",
    "|D | 500\n",
    "|M | 1000\n",
    "\n",
    "27 is written as `XXVII`. Roman numerals are usually written largest to smallest from left to right. \n",
    "\n",
    "* curr: value in current iteration\n",
    "* prev: value if previous iteration\n",
    "\n",
    "**Idea: Add all curr, if curr > prev, e.g., 1000 > 100, 这违反了从左到右是由大到小的规则then need to subtract 2 * prev**"
   ]
  },
  {
   "cell_type": "code",
   "execution_count": 21,
   "metadata": {},
   "outputs": [],
   "source": [
    "def romanToInt(s):\n",
    "    \"\"\"\n",
    "    :type s: str\n",
    "    :rtype: int\n",
    "    \"\"\"\n",
    "    roman = {'I': 1, 'V': 5, 'X': 10, 'L': 50, 'C': 100, 'D': 500, 'M': 1000}\n",
    "    prev, total = 0, 0\n",
    "    \n",
    "    for c in s:\n",
    "        curr = roman[c]\n",
    "        total += curr\n",
    "        \n",
    "        # need to subtract\n",
    "        if curr > prev:\n",
    "            total -= 2 * prev\n",
    "        prev = curr\n",
    "    return(total)"
   ]
  },
  {
   "cell_type": "markdown",
   "metadata": {},
   "source": [
    "Test:"
   ]
  },
  {
   "cell_type": "code",
   "execution_count": 22,
   "metadata": {},
   "outputs": [
    {
     "data": {
      "text/plain": [
       "1994"
      ]
     },
     "execution_count": 22,
     "metadata": {},
     "output_type": "execute_result"
    }
   ],
   "source": [
    "romanToInt(s = 'MCMXCIV')"
   ]
  },
  {
   "cell_type": "markdown",
   "metadata": {},
   "source": [
    "#### 14. Longest Common Prefix\n",
    "Write a function to find the longest common prefix string amongst an array of strings.\n",
    "\n",
    "If there is no common prefix, return an empty string `\"\"`.\n",
    "\n",
    "Example:\n",
    "```\n",
    "Input: [\"flower\",\"flow\",\"flight\"]\n",
    "\n",
    "Output: \"fl\"\n",
    "```"
   ]
  },
  {
   "cell_type": "code",
   "execution_count": null,
   "metadata": {},
   "outputs": [],
   "source": [
    "def longestCommonPrefix(strs):\n",
    "    \"\"\"\n",
    "    :type strs: List[str]\n",
    "    :rtype: str\n",
    "    \"\"\"\n",
    "    if not strs: # if strs is None\n",
    "        return \"\"\n",
    "    shortest = min(strs, key = len) # find shortest string in the list\n",
    "    for i, ch in enumerate(shortest):\n",
    "        for other in strs:\n",
    "            if other[i] != ch:\n",
    "                return(shortest[:i]) # return first i characters in shortest\n",
    "    return(shortest)"
   ]
  },
  {
   "cell_type": "markdown",
   "metadata": {},
   "source": [
    "Test:"
   ]
  },
  {
   "cell_type": "code",
   "execution_count": 32,
   "metadata": {},
   "outputs": [
    {
     "data": {
      "text/plain": [
       "'fl'"
      ]
     },
     "execution_count": 32,
     "metadata": {},
     "output_type": "execute_result"
    }
   ],
   "source": [
    "strs = [\"flower\",\"flow\",\"flight\"]\n",
    "longestCommonPrefix(strs)"
   ]
  },
  {
   "cell_type": "code",
   "execution_count": 30,
   "metadata": {},
   "outputs": [
    {
     "data": {
      "text/plain": [
       "'i'"
      ]
     },
     "execution_count": 30,
     "metadata": {},
     "output_type": "execute_result"
    }
   ],
   "source": [
    "\"flight\"[2]"
   ]
  },
  {
   "cell_type": "code",
   "execution_count": 33,
   "metadata": {},
   "outputs": [
    {
     "data": {
      "text/plain": [
       "''"
      ]
     },
     "execution_count": 33,
     "metadata": {},
     "output_type": "execute_result"
    }
   ],
   "source": [
    "strs = [\"dog\",\"racecar\",\"car\"] # no common prefix\n",
    "longestCommonPrefix(strs)"
   ]
  },
  {
   "cell_type": "markdown",
   "metadata": {},
   "source": [
    "#### 20. Valid Parentheses\n",
    "Given a string containing just the characters `'(', ')'`, `'{', '}'`, `'['` and `']'`, determine if the input string is valid.\n",
    "\n",
    "An input string is valid if:\n",
    "\n",
    "1. Open brackets must be closed by the same type of brackets.\n",
    "2. Open brackets must be closed in the correct order.\n",
    "Note that an empty string is also considered valid.\n",
    "\n",
    "```\n",
    "Input: \"([)]\"\n",
    "Output: false\n",
    "```\n",
    "\n",
    "```\n",
    "Input: \"{[]}\"\n",
    "Output: true\n",
    "```\n",
    "\n",
    "**Idea:**\n",
    "\n",
    "1. Stack\n",
    "2. Replace all parentheses with '', if empty then True\n",
    "\n",
    "**知识点：stack**\n",
    "\n",
    "A stack is a linear data structure that stores items in a ***Last-In/First-Out (LIFO)*** or ***First-In/Last-Out (FILO)*** manner. In stack, a new element is added at one end and an element is removed from that end only. The insert and delete operations are often called push and pop.\n",
    "\n",
    "- empty() – Returns whether the stack is empty – Time Complexity : O(1)\n",
    "- size() – Returns the size of the stack – Time Complexity : O(1)\n",
    "- top() – Returns a reference to the top most element of the stack – Time Complexity : O(1)\n",
    "- push(g) – Adds the element ‘g’ at the top of the stack – Time Complexity : O(1)\n",
    "- pop() – Deletes the top most element of the stack – Time Complexity : O(1)"
   ]
  },
  {
   "cell_type": "code",
   "execution_count": 38,
   "metadata": {},
   "outputs": [],
   "source": [
    "def isValid(s):\n",
    "    \"\"\"\n",
    "    :type s: str\n",
    "    :rtype: bool\n",
    "    \"\"\"\n",
    "    if len(s)%2 != 0:\n",
    "        return False\n",
    "    opening = set('([{')\n",
    "    matches = set([('(', ')'), ('[', ']'), ('{', '}')])\n",
    "    stack = []\n",
    "        \n",
    "    for paren in s:\n",
    "        if paren in opening:\n",
    "            stack.append(paren)\n",
    "        else:\n",
    "            if len(stack) == 0:\n",
    "                return False\n",
    "            last_open = stack.pop()\n",
    "            if (last_open, paren) not in matches:\n",
    "                return False\n",
    "    return(len(stack) == 0)"
   ]
  },
  {
   "cell_type": "markdown",
   "metadata": {},
   "source": [
    "Test:"
   ]
  },
  {
   "cell_type": "code",
   "execution_count": 41,
   "metadata": {},
   "outputs": [
    {
     "data": {
      "text/plain": [
       "True"
      ]
     },
     "execution_count": 41,
     "metadata": {},
     "output_type": "execute_result"
    }
   ],
   "source": [
    "isValid(\"{[]}\")"
   ]
  },
  {
   "cell_type": "code",
   "execution_count": 43,
   "metadata": {},
   "outputs": [
    {
     "data": {
      "text/plain": [
       "False"
      ]
     },
     "execution_count": 43,
     "metadata": {},
     "output_type": "execute_result"
    }
   ],
   "source": [
    "isValid(\"{([]}}\")"
   ]
  },
  {
   "cell_type": "markdown",
   "metadata": {},
   "source": [
    "#### 21. Merge Two Sorted Lists\n",
    "Merge two sorted linked lists and return it as a new list. The new list should be made by splicing together the nodes of the first two lists.\n",
    "\n",
    "Example:\n",
    "```\n",
    "Input: 1->2->4, 1->3->4\n",
    "Output: 1->1->2->3->4->4\n",
    "```\n",
    "\n",
    "**Idea:**\n",
    "First make sure that a is the \"better\" one (meaning b is None or has larger/equal value). Then merge the remainders behind a."
   ]
  },
  {
   "cell_type": "code",
   "execution_count": 49,
   "metadata": {},
   "outputs": [],
   "source": [
    "class Solution(object):\n",
    "    def mergeTwoLists(self, l1, l2):\n",
    "        \"\"\"\n",
    "        :type l1: ListNode\n",
    "        :type l2: ListNode\n",
    "        :rtype: ListNode\n",
    "        \"\"\"\n",
    "        if not l1 or not l2:\n",
    "            return l1 or l2\n",
    "        if l1.val < l2.val:\n",
    "            l1.next = self.mergeTwoLists(l1.next, l2)\n",
    "            return(l1)\n",
    "        else:\n",
    "            l2.next = self.mergeTwoLists(l1, l2.next)\n",
    "            return(l2)"
   ]
  },
  {
   "cell_type": "markdown",
   "metadata": {},
   "source": [
    "#### 26. Remove Duplicates from Sorted Array\n",
    "Given a sorted array nums, remove the duplicates in-place such that each element appear only once and return the new length.\n",
    "\n",
    "Do not allocate extra space for another array, you must do this by modifying the input array in-place with O(1) extra memory."
   ]
  },
  {
   "cell_type": "code",
   "execution_count": 51,
   "metadata": {},
   "outputs": [],
   "source": [
    "def removeDuplicates(nums):\n",
    "    curr_idx = 0\n",
    "    \n",
    "    # iterating through nums list till next-to-last element (curr_idx + 1 always checked)\n",
    "    while curr_idx < len(nums) - 1:     \n",
    "        \n",
    "        if nums[curr_idx] == nums[curr_idx + 1]:  # if current and next element are the same\n",
    "            del nums[curr_idx] # current element is deleted\n",
    "            curr_idx -= 1  # to stay at the same place in list, we have to dicrease 1 (1 will be added in the next step)\n",
    "        curr_idx += 1  # going further in the list\n",
    "\n",
    "    return(len(nums))\n",
    " \n",
    "    \"\"\"\n",
    "    what's important here is the fact, that in while loop condition is checked with every step,\n",
    "    so len(nums) when del is decreasing and will not cause index error in the end of iteration\n",
    "    as in for loop\n",
    "    \"\"\""
   ]
  },
  {
   "cell_type": "markdown",
   "metadata": {},
   "source": [
    "Test:"
   ]
  },
  {
   "cell_type": "code",
   "execution_count": 52,
   "metadata": {},
   "outputs": [
    {
     "data": {
      "text/plain": [
       "5"
      ]
     },
     "execution_count": 52,
     "metadata": {},
     "output_type": "execute_result"
    }
   ],
   "source": [
    "removeDuplicates([0,0,1,1,1,2,2,3,3,4])"
   ]
  },
  {
   "cell_type": "markdown",
   "metadata": {},
   "source": [
    "#### 27. Remove Element\n",
    "Given an array nums and a value val, remove all instances of that value in-place and return the new length. Do not allocate extra space for another array, you must do this by modifying the input array in-place with O(1) extra memory.\n",
    "\n",
    "The order of elements can be changed. It doesn't matter what you leave beyond the new length.\n",
    "将每个match的元素换到最后，并且index of last element -= 1"
   ]
  },
  {
   "cell_type": "code",
   "execution_count": 53,
   "metadata": {},
   "outputs": [],
   "source": [
    "# Starting from the left, every time we find a value that is the target value \n",
    "# we swap it out with an item starting from the right. \n",
    "# end-1 each time as we know that the final item is the target value \n",
    "# and only increment start once we know the value is ok. \n",
    "# Once start reaches end we know all items after that point are the target value so we can stop there.\n",
    "\n",
    "def removeElement(nums, val):\n",
    "    \"\"\"\n",
    "    :type nums: List[int]\n",
    "    :type val: int\n",
    "    :rtype: int\n",
    "    \"\"\"\n",
    "    start, end = 0, len(nums) - 1\n",
    "    while start <= end:\n",
    "        if nums[start] == val:\n",
    "            nums[start], nums[end], end = nums[end], nums[start], end - 1\n",
    "        else:\n",
    "            start +=1\n",
    "    return start"
   ]
  },
  {
   "cell_type": "code",
   "execution_count": 54,
   "metadata": {},
   "outputs": [
    {
     "data": {
      "text/plain": [
       "5"
      ]
     },
     "execution_count": 54,
     "metadata": {},
     "output_type": "execute_result"
    }
   ],
   "source": [
    "removeElement([0,1,2,2,3,0,4,2], 2)"
   ]
  },
  {
   "cell_type": "code",
   "execution_count": null,
   "metadata": {},
   "outputs": [],
   "source": []
  }
 ],
 "metadata": {
  "kernelspec": {
   "display_name": "Python 3",
   "language": "python",
   "name": "python3"
  },
  "language_info": {
   "codemirror_mode": {
    "name": "ipython",
    "version": 3
   },
   "file_extension": ".py",
   "mimetype": "text/x-python",
   "name": "python",
   "nbconvert_exporter": "python",
   "pygments_lexer": "ipython3",
   "version": "3.6.5"
  },
  "toc": {
   "base_numbering": 1,
   "nav_menu": {},
   "number_sections": false,
   "sideBar": true,
   "skip_h1_title": false,
   "title_cell": "Table of Contents",
   "title_sidebar": "Contents",
   "toc_cell": true,
   "toc_position": {},
   "toc_section_display": true,
   "toc_window_display": false
  }
 },
 "nbformat": 4,
 "nbformat_minor": 2
}
